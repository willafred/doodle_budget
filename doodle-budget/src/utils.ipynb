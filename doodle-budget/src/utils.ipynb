{
 "cells": [
  {
   "cell_type": "code",
   "execution_count": 3,
   "id": "3ad3be82",
   "metadata": {},
   "outputs": [],
   "source": [
    "import pandas as pd"
   ]
  },
  {
   "cell_type": "code",
   "execution_count": 2,
   "id": "eeb6611d",
   "metadata": {},
   "outputs": [],
   "source": [
    "def savings_updater(savings_counter, new_savings_input):\n",
    "    savings_counter += new_savings_input\n",
    "    return savings_counter\n",
    "\n",
    "def expenses_updater(expenses_counter, new_expense_input):\n",
    "    expenses_counter += new_expense_input\n",
    "    return expenses_counter\n",
    "\n",
    "def inflow_updater(inflow_counter, new_inflow_input):\n",
    "    inflow_counter += new_inflow_input\n",
    "    return inflow_counter\n",
    "\n",
    "def outflow_updater(outflow_counter, new_outflow_input):\n",
    "    outflow_counter += new_outflow_input\n",
    "    return outflow_counter\n",
    "\n",
    "def new_flow_updater(outflow, inflow):\n",
    "    return (inflow - outflow)\n",
    "\n",
    "def inv_updater(inv_counter, new_inv_input):\n",
    "    inv_counter += new_inv_input\n",
    "    return inv_counter\n",
    "\n",
    "def weights_perc_calc(target_df):\n",
    "    target_df['importance'] = target_df['type'] * target_df['urgency']\n",
    "    target_df['weights'] = target_df['importance'] / target_df['importance'].sum()\n",
    "    return target_df"
   ]
  },
  {
   "cell_type": "code",
   "execution_count": null,
   "id": "d729db9b",
   "metadata": {},
   "outputs": [],
   "source": [
    "def target_df_updater(target_df, date, target, description, type, urgency):\n",
    "    new_df = pd.DataFrame({'date': [date], 'target': [target], 'description': [description], 'type': [type], 'urgency': [urgency]})\n",
    "    updated_df = pd.concat([target_df, new_df],ignore_index=True)\n",
    "    return updated_df\n",
    "\n",
    "def transaction_df_updater(transaction_df, date, transaction_val, type, description, prop_saved = 0, amt_saved = 0):\n",
    "    if prop_saved == 0 and amt_saved != 0:\n",
    "        prop_saved = round(amt_saved / transaction_val,2)\n",
    "    elif prop_saved != 0 and amt_saved == 0:\n",
    "        amt_saved = round(prop_saved * transaction_val, 2)\n",
    "    else:\n",
    "        prop_saved = prop_saved\n",
    "        amt_saved = amt_saved\n",
    "    new_df = pd.DataFrame({'date': [date], 'val': [transaction_val], 'description': [description], \n",
    "                           'type': [type], 'prop_saved': [prop_saved], 'amt_saved': [amt_saved]})\n",
    "    updated_df = pd.concat([transaction_df, new_df],ignore_index=True)\n",
    "    return updated_df \n",
    "\n",
    "def inv_df_updater(inv_df, date, int_rate, inv_type, inv_val):\n",
    "    new_df = pd.DataFrame({'date': [date], 'int_rate': [int_rate], 'inv_type': [inv_type], 'inv_val': [inv_val]})\n",
    "    updated_df = pd.concat([inv_df, new_df], ignore_index=True)\n",
    "    return updated_df\n",
    "\n",
    "def perc_completed_target(savings_val, target_df, date_of_input, delete_savings = False, delete_target = False):\n",
    "    if delete_savings == False and delete_target == False:\n",
    "        target_df['val_remaining'] = target_df['target'] - target_df['weights'] * savings_val\n",
    "        return target_df"
   ]
  }
 ],
 "metadata": {
  "kernelspec": {
   "display_name": "Python 3",
   "language": "python",
   "name": "python3"
  },
  "language_info": {
   "codemirror_mode": {
    "name": "ipython",
    "version": 3
   },
   "file_extension": ".py",
   "mimetype": "text/x-python",
   "name": "python",
   "nbconvert_exporter": "python",
   "pygments_lexer": "ipython3",
   "version": "3.10.11"
  }
 },
 "nbformat": 4,
 "nbformat_minor": 5
}
